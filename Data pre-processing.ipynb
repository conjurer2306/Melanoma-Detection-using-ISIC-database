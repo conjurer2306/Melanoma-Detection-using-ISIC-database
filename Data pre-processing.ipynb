{
 "cells": [
  {
   "cell_type": "code",
   "execution_count": 15,
   "metadata": {},
   "outputs": [],
   "source": [
    "import tkinter as tk #python interface to the Tk GUI tool kit\n",
    "import tkinter.filedialog as tkfd #open and saves dialogue functions\n",
    "import cv2 #reading/writing image\n",
    "import os #interaction with os\n",
    "import matplotlib.pyplot as plt\n",
    "import numpy as np #extension of matplotlib.pyplot\n",
    "%matplotlib inline"
   ]
  },
  {
   "cell_type": "code",
   "execution_count": 16,
   "metadata": {},
   "outputs": [],
   "source": [
    "tk.Tk().withdraw()\n",
    "path=tkfd.askdirectory() #Testing Images "
   ]
  },
  {
   "cell_type": "code",
   "execution_count": 17,
   "metadata": {},
   "outputs": [],
   "source": [
    "def load_images(folder):\n",
    "        image_list=[]\n",
    "        for filename in os.listdir(folder):\n",
    "            img=cv2.imread(os.path.join(folder,filename)) #takes one image at a time and its name and folder\n",
    "            if img is not None:\n",
    "                image_list.append(img) #if img is not NULL then it is added to the list\n",
    "        return image_list"
   ]
  },
  {
   "cell_type": "code",
   "execution_count": 18,
   "metadata": {},
   "outputs": [],
   "source": [
    "images=load_images(path)"
   ]
  },
  {
   "cell_type": "code",
   "execution_count": 19,
   "metadata": {},
   "outputs": [],
   "source": [
    "def resize_images(images):\n",
    "    resize_image=[]\n",
    "    for image in images:\n",
    "        imag=cv2.resize(image,(64,64))\n",
    "        resize_image.append(imag)\n",
    "    return resize_image"
   ]
  },
  {
   "cell_type": "code",
   "execution_count": 20,
   "metadata": {},
   "outputs": [],
   "source": [
    "def mask(mask,RGBImages):\n",
    "    #R=RGBImage[:,:,2]\n",
    "    #G=RGBImage[:,:,1]\n",
    "    #B=RGBImage[:,:,0]\n",
    "    masked_Image=[]\n",
    "    for RGBImage in RGBImages:\n",
    "        B,G,R=cv2.split(RGBImage)\n",
    "        maskRed=np.multiply(R,mask)\n",
    "        maskGreen=np.multiply(G,mask)\n",
    "        maskBlue=np.multiply(B,mask)\n",
    "        maskedImage=cv2.merge([maskRed,maskGreen,maskBlue])\n",
    "        masked_Image.append(maskedImage)\n",
    "    return masked_Image"
   ]
  },
  {
   "cell_type": "code",
   "execution_count": 21,
   "metadata": {},
   "outputs": [],
   "source": [
    "IGray=cv2.cvtColor(images[0],cv2.COLOR_BGR2GRAY)\n",
    "ret,BW=cv2.threshold(IGray,0,255,cv2.THRESH_BINARY+cv2.THRESH_OTSU)\n",
    "#ret1,thresh1 = cv2.threshold(th,127,255,cv2.THRESH_BINARY)\n",
    "ret2,thresh2 = cv2.threshold(BW,127,255,cv2.THRESH_BINARY_INV)"
   ]
  },
  {
   "cell_type": "code",
   "execution_count": 22,
   "metadata": {},
   "outputs": [],
   "source": [
    "ResizedImages=resize_images(images)"
   ]
  },
  {
   "cell_type": "code",
   "execution_count": 23,
   "metadata": {},
   "outputs": [],
   "source": [
    "ProcessedImages=mask(thresh2, ResizedImages)"
   ]
  },
  {
   "cell_type": "code",
   "execution_count": 24,
   "metadata": {},
   "outputs": [],
   "source": [
    "os.chdir(path=tkfd.askdirectory())\n",
    "for i in range(1,len(ProcessedImages)+1):\n",
    "    cv2.imwrite(('imageprocessed_{}.jpg'.format(i)),ProcessedImages[i-1])"
   ]
  },
  {
   "cell_type": "code",
   "execution_count": 25,
   "metadata": {},
   "outputs": [
    {
     "data": {
      "text/plain": [
       "(64, 64, 3)"
      ]
     },
     "execution_count": 25,
     "metadata": {},
     "output_type": "execute_result"
    }
   ],
   "source": [
    "# Checking\n",
    "len(ProcessedImages)\n",
    "ResizedImages[0].shape"
   ]
  },
  {
   "cell_type": "code",
   "execution_count": null,
   "metadata": {},
   "outputs": [],
   "source": []
  }
 ],
 "metadata": {
  "kernelspec": {
   "display_name": "Python 3",
   "language": "python",
   "name": "python3"
  },
  "language_info": {
   "codemirror_mode": {
    "name": "ipython",
    "version": 3
   },
   "file_extension": ".py",
   "mimetype": "text/x-python",
   "name": "python",
   "nbconvert_exporter": "python",
   "pygments_lexer": "ipython3",
   "version": "3.7.4"
  }
 },
 "nbformat": 4,
 "nbformat_minor": 2
}
