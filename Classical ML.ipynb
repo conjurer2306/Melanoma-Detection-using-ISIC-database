{
 "cells": [
  {
   "cell_type": "code",
   "execution_count": 5,
   "metadata": {},
   "outputs": [],
   "source": [
    "import cv2\n",
    "import tkinter as tk\n",
    "import tkinter.filedialog as tkfd\n",
    "import os\n",
    "import numpy as np\n",
    "import pandas as pd\n",
    "import matplotlib.pyplot as plt\n",
    "#from keras.utils \n",
    "import np_utils\n",
    "from sklearn.metrics import accuracy_score, average_precision_score\n",
    "from sklearn import svm\n",
    "from sklearn.ensemble import RandomForestClassifier\n",
    "from sklearn.ensemble import GradientBoostingClassifier\n",
    "from sklearn import tree\n",
    "import random\n",
    "%matplotlib inline"
   ]
  },
  {
   "cell_type": "code",
   "execution_count": 6,
   "metadata": {},
   "outputs": [],
   "source": [
    "def load_images(folder):\n",
    "        image_list=[]\n",
    "        for filename in os.listdir(folder):\n",
    "            img=cv2.imread(os.path.join(folder,filename))\n",
    "            if img is not None:\n",
    "                image_list.append(img)\n",
    "        return image_list"
   ]
  },
  {
   "cell_type": "code",
   "execution_count": 7,
   "metadata": {},
   "outputs": [],
   "source": [
    "tk.Tk().withdraw()\n",
    "path_Train=tkfd.askdirectory()"
   ]
  },
  {
   "cell_type": "code",
   "execution_count": 8,
   "metadata": {},
   "outputs": [],
   "source": [
    "X_Train=load_images(path_Train)\n",
    "X_Train=np.array(X_Train)\n"
   ]
  },
  {
   "cell_type": "code",
   "execution_count": 9,
   "metadata": {},
   "outputs": [],
   "source": [
    "tk.Tk().withdraw()\n",
    "path_Test=tkfd.askdirectory()"
   ]
  },
  {
   "cell_type": "code",
   "execution_count": 10,
   "metadata": {},
   "outputs": [],
   "source": [
    "X_Test=load_images(path_Test)\n",
    "X_Test=np.array(X_Test)"
   ]
  },
  {
   "cell_type": "code",
   "execution_count": 11,
   "metadata": {},
   "outputs": [],
   "source": [
    "tk.Tk().withdraw()\n",
    "path_Validation=tkfd.askdirectory()"
   ]
  },
  {
   "cell_type": "code",
   "execution_count": 12,
   "metadata": {},
   "outputs": [],
   "source": [
    "X_Validation=load_images(path_Validation)\n",
    "X_Validation=np.array(X_Validation)"
   ]
  },
  {
   "cell_type": "code",
   "execution_count": 13,
   "metadata": {},
   "outputs": [],
   "source": [
    "os.chdir(path=tkfd.askdirectory())\n",
    "data_Train=pd.read_csv(\"ISIC-2017_Training_Part3_GroundTruth.csv\")\n",
    "data_Test=pd.read_csv(\"ISIC-2017_Test_v2_Part3_GroundTruth.csv\")\n",
    "data_Validation=pd.read_csv(\"ISIC-2017_Validation_Part3_GroundTruth.csv\")"
   ]
  },
  {
   "cell_type": "code",
   "execution_count": 14,
   "metadata": {},
   "outputs": [],
   "source": [
    "data_Train=data_Train.iloc[0:2000,1]\n",
    "data_Test=data_Test.iloc[0:600,1]\n",
    "data_Validation=data_Validation.iloc[0:300,1]\n",
    "\n",
    "y_Train=data_Train\n",
    "y_Test=data_Test\n",
    "y_Validation=data_Validation\n",
    "\n",
    "y_Train=np.array(y_Train)\n",
    "y_Test=np.array(y_Test)\n",
    "y_Validation=np.array(y_Validation)"
   ]
  },
  {
   "cell_type": "code",
   "execution_count": 15,
   "metadata": {},
   "outputs": [
    {
     "data": {
      "text/plain": [
       "'y_Train = np_utils.to_categorical(data_Train)\\ny_Test = np_utils.to_categorical(data_Test)\\ny_Validation = np_utils.to_categorical(data_Validation)'"
      ]
     },
     "execution_count": 15,
     "metadata": {},
     "output_type": "execute_result"
    }
   ],
   "source": [
    "'''y_Train = np_utils.to_categorical(data_Train)\n",
    "y_Test = np_utils.to_categorical(data_Test)\n",
    "y_Validation = np_utils.to_categorical(data_Validation)'''"
   ]
  },
  {
   "cell_type": "code",
   "execution_count": 16,
   "metadata": {},
   "outputs": [],
   "source": [
    "X_Train_2D = X_Train.reshape(2000,-1)\n",
    "X_Test_2D = X_Test.reshape(600,-1)\n",
    "X_Validation_2D = X_Validation.reshape(300,-1)"
   ]
  },
  {
   "cell_type": "code",
   "execution_count": 17,
   "metadata": {},
   "outputs": [
    {
     "name": "stdout",
     "output_type": "stream",
     "text": [
      "0.62\n",
      "0.725\n"
     ]
    }
   ],
   "source": [
    "random.seed(200)\n",
    "modelTREE = tree.DecisionTreeClassifier(criterion='gini')\n",
    "#modelTREE = tree.DecisionTreeClassifier(criterion='gini')\n",
    "modelTREE.fit(X_Train_2D, y_Train)\n",
    "predictedTREE= modelTREE.predict(X_Test_2D)\n",
    "print(accuracy_score(y_Test, predictedTREE))\n",
    "\n",
    "modelTREE = tree.DecisionTreeClassifier(criterion='entropy')\n",
    "modelTREE.fit(X_Train_2D, y_Train)\n",
    "predictedTREE= modelTREE.predict(X_Test_2D)\n",
    "print(accuracy_score(y_Test, predictedTREE))"
   ]
  },
  {
   "cell_type": "code",
   "execution_count": 18,
   "metadata": {},
   "outputs": [
    {
     "name": "stderr",
     "output_type": "stream",
     "text": [
      "C:\\Users\\Public\\Anaconda3\\lib\\site-packages\\sklearn\\ensemble\\forest.py:245: FutureWarning: The default value of n_estimators will change from 10 in version 0.20 to 100 in 0.22.\n",
      "  \"10 in version 0.20 to 100 in 0.22.\", FutureWarning)\n"
     ]
    },
    {
     "name": "stdout",
     "output_type": "stream",
     "text": [
      "0.78\n"
     ]
    }
   ],
   "source": [
    "random.seed(200)\n",
    "modelRF = RandomForestClassifier()\n",
    "modelRF.fit(X_Train_2D, y_Train)\n",
    "predictedRF = modelRF.predict(X_Test_2D)\n",
    "print(accuracy_score(y_Test, predictedRF))"
   ]
  },
  {
   "cell_type": "code",
   "execution_count": null,
   "metadata": {},
   "outputs": [],
   "source": [
    "random.seed(200)\n",
    "modelSVM = svm.SVC()\n",
    "modelSVM.fit(X_Train_2D, y_Train)\n",
    "predictedSVM = modelSVM.predict(X_Test_2D)\n",
    "print(accuracy_score(y_Test, predictedSVM))"
   ]
  },
  {
   "cell_type": "code",
   "execution_count": null,
   "metadata": {},
   "outputs": [],
   "source": [
    "random.seed(200)\n",
    "modelGBM = GradientBoostingClassifier(n_estimators=500, learning_rate=1, max_depth=3, random_state=0)\n",
    "modelGBM.fit(X_Train_2D, y_Train)\n",
    "predictedGBM = modelGBM.predict(X_Test_2D)\n",
    "print(accuracy_score(y_Test, predictedGBM))"
   ]
  },
  {
   "cell_type": "code",
   "execution_count": null,
   "metadata": {},
   "outputs": [],
   "source": []
  },
  {
   "cell_type": "code",
   "execution_count": null,
   "metadata": {},
   "outputs": [],
   "source": []
  }
 ],
 "metadata": {
  "kernelspec": {
   "display_name": "Python 3",
   "language": "python",
   "name": "python3"
  },
  "language_info": {
   "codemirror_mode": {
    "name": "ipython",
    "version": 3
   },
   "file_extension": ".py",
   "mimetype": "text/x-python",
   "name": "python",
   "nbconvert_exporter": "python",
   "pygments_lexer": "ipython3",
   "version": "3.7.4"
  }
 },
 "nbformat": 4,
 "nbformat_minor": 2
}
